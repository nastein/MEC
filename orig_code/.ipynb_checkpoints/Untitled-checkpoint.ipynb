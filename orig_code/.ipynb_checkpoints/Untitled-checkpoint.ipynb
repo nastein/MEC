{
 "cells": [
  {
   "cell_type": "code",
   "execution_count": 6,
   "id": "a569eff7",
   "metadata": {},
   "outputs": [],
   "source": [
    "import numpy as np\n",
    "import pandas as pd\n",
    "import matplotlib.pyplot as plt\n",
    "plt.rcParams['figure.dpi'] = 200"
   ]
  },
  {
   "cell_type": "code",
   "execution_count": 9,
   "id": "f83fc6d9",
   "metadata": {},
   "outputs": [],
   "source": [
    "#Grab prediction\n",
    "split_dir='/Users/noah/Physics/Fermilab/MEC/code/'\n",
    "summed_dir='/Users/noah/Physics/Fermilab/MEC/orig_code/'\n",
    "\n",
    "\n",
    "summed =summed_dir+f'C12_2700_15p0_2b_FSI2_harry_full.out'\n",
    "ppnn = split_dir+f'C12_2700_15p0_2b_pp+nn.out'\n",
    "pnnp = split_dir+f'C12_2700_15p0_2b_pn+np.out'\n",
    "\n",
    "summed_df = pd.read_csv(summed,sep=\"\\s+|\\t+|\\s+\\t+|\\t+\\s+\", header=None, engine='python')\n",
    "ppnn_df = pd.read_csv(ppnn,sep=\"\\s+|\\t+|\\s+\\t+|\\t+\\s+\", header=None, engine='python')\n",
    "pnnp_df = pd.read_csv(pnnp,sep=\"\\s+|\\t+|\\s+\\t+|\\t+\\s+\", header=None, engine='python')\n",
    "\n",
    "summed_df.columns = ['w', 'Emu', 'xsec','xsec_err']\n",
    "ppnn_df.columns = ['w', 'Emu', 'xsec','xsec_err']\n",
    "pnnp_df.columns = ['w', 'Emu', 'xsec','xsec_err']\n"
   ]
  },
  {
   "cell_type": "code",
   "execution_count": null,
   "id": "5ca08b5a",
   "metadata": {},
   "outputs": [],
   "source": [
    "\n",
    "fig1, ax = plt.subplots(1,1,figsize=(15, 15))\n",
    "#fig1, ax = plt.subplots()\n",
    "\n",
    "\n",
    "ax.plot(zexp_lattice_df_coll[zexp_lattice_df_coll['cos_range'] == (9 - dummy[i][j])]['tmu'],zexp_lattice_df_coll[zexp_lattice_df_coll['cos_range'] == (9 - dummy[i][j])]['xsec'], label=r'SF, $F_{A}^{z exp} (Lattice)$',color='red')\n",
    "        \n",
    "        ax[i][j].set_title(r'${x} < cos(\\theta) < {y}$'.format(x = (10 - dummy[i][j] - 1)/10.0, y = (10 - dummy[i][j])/10.0))\n",
    "        ax[i][j].set_xlabel(r'$T_{\\mu}$ (MeV)', fontsize=8)\n",
    "        ax[i][j].set_ylabel(r'$d\\sigma /dcos\\theta_{\\mu} dT_{\\mu}$ $(10^{-41} cm^{2}/MeV)$', fontsize=8)\n",
    "        #ax[i][j].set_yscale('log')\n",
    "        ax[i][j].set_xbound(0,1000)\n",
    "        ax[i][j].legend()\n",
    "\n",
    "ax.set_ybound(1e-42, 3e-41)\n",
    "\n"
   ]
  }
 ],
 "metadata": {
  "kernelspec": {
   "display_name": "Python 3",
   "language": "python",
   "name": "python3"
  },
  "language_info": {
   "codemirror_mode": {
    "name": "ipython",
    "version": 3
   },
   "file_extension": ".py",
   "mimetype": "text/x-python",
   "name": "python",
   "nbconvert_exporter": "python",
   "pygments_lexer": "ipython3",
   "version": "3.8.2"
  }
 },
 "nbformat": 4,
 "nbformat_minor": 5
}
